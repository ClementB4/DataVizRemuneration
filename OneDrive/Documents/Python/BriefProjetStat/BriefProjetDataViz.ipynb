{
 "cells": [
  {
   "cell_type": "markdown",
   "metadata": {},
   "source": [
    "# 1. Charger les différentes bases de données\n",
    "## 1.1 Importer pandas"
   ]
  },
  {
   "cell_type": "code",
   "execution_count": 2,
   "metadata": {},
   "outputs": [],
   "source": [
    "import pandas as pd"
   ]
  },
  {
   "cell_type": "markdown",
   "metadata": {},
   "source": [
    "## 1.2 Importer avec pandas les bases de données"
   ]
  },
  {
   "cell_type": "code",
   "execution_count": 3,
   "metadata": {},
   "outputs": [],
   "source": [
    "avantage = pd.read_csv('C:/Users/brune/OneDrive/Documents/BriefProjetGroupe/Brief_projet/declaration_avantage_2020_02_19_04_00.csv', sep=';', dtype=object)"
   ]
  },
  {
   "cell_type": "code",
   "execution_count": 4,
   "metadata": {},
   "outputs": [],
   "source": [
    "convention = pd.read_csv('C:/Users/brune/OneDrive/Documents/BriefProjetGroupe/Brief_projet/declaration_convention_2020_02_19_04_00.csv', sep=';', na_filter=False)"
   ]
  },
  {
   "cell_type": "code",
   "execution_count": 5,
   "metadata": {},
   "outputs": [],
   "source": [
    "remuneration = pd.read_csv('C:/Users/brune/OneDrive/Documents/BriefProjetGroupe/Brief_projet/declaration_remuneration_2020_02_19_04_00.csv', sep=';', na_filter=False)"
   ]
  },
  {
   "cell_type": "code",
   "execution_count": 6,
   "metadata": {},
   "outputs": [],
   "source": [
    "entreprise = pd.read_csv('C:/Users/brune/OneDrive/Documents/BriefProjetGroupe/Brief_projet/entreprise_2020_02_19_04_00.csv', sep=',', na_filter=False)"
   ]
  },
  {
   "cell_type": "markdown",
   "metadata": {},
   "source": [
    "### 1.2.1 On clean la base de donnée 'avantage'"
   ]
  },
  {
   "cell_type": "code",
   "execution_count": 7,
   "metadata": {
    "scrolled": true
   },
   "outputs": [
    {
     "name": "stdout",
     "output_type": "stream",
     "text": [
      "                       Nom colonne  Nombre unique\n",
      "0           entreprise_identifiant           2003\n",
      "1             denomination_sociale           1983\n",
      "2                ligne_identifiant       10477856\n",
      "3              ligne_rectification              2\n",
      "4             benef_categorie_code             14\n",
      "5                        categorie             14\n",
      "6                        benef_nom         452496\n",
      "7                     benef_prenom          91687\n",
      "8               benef_qualite_code             25\n",
      "9                          qualite             25\n",
      "10                  benef_adresse1         664074\n",
      "11                  benef_adresse2         332250\n",
      "12                  benef_adresse3         134143\n",
      "13                  benef_adresse4          21844\n",
      "14                benef_codepostal          20958\n",
      "15                     benef_ville          61986\n",
      "16                 benef_pays_code            102\n",
      "17                            pays            102\n",
      "18                benef_titre_code              8\n",
      "19             benef_titre_libelle              8\n",
      "20           benef_specialite_code             65\n",
      "21        benef_speicalite_libelle             65\n",
      "22     benef_identifiant_type_code              5\n",
      "23                identifiant_type              5\n",
      "24        benef_identifiant_valeur         526069\n",
      "25             benef_etablissement          44831\n",
      "26  benef_etablissement_codepostal           5662\n",
      "27       benef_etablissement_ville           8017\n",
      "28      benef_denomination_sociale          31668\n",
      "29              benef_objet_social          11650\n",
      "30                      ligne_type              1\n",
      "31            avant_date_signature           2984\n",
      "32               avant_montant_ttc          12011\n",
      "33                    avant_nature           9451\n",
      "34            avant_convention_lie        1523496\n",
      "35                        semestre              2\n"
     ]
    }
   ],
   "source": [
    "columns = avantage.columns.tolist()\n",
    "data = []\n",
    "for column in columns:\n",
    "    data.append([column, len(avantage[column].unique())])\n",
    "df = pd.DataFrame(data, columns=['Nom colonne', 'Nombre unique'])\n",
    "print(df)"
   ]
  },
  {
   "cell_type": "markdown",
   "metadata": {},
   "source": [
    "#### - On supprime les colonnes 'codes' des colonnes 'qualitatives'."
   ]
  },
  {
   "cell_type": "code",
   "execution_count": 8,
   "metadata": {},
   "outputs": [],
   "source": [
    "avantage.drop(['benef_categorie_code', 'benef_qualite_code', 'benef_pays_code', \n",
    "               'benef_titre_code', 'benef_specialite_code', 'benef_identifiant_type_code'], axis=1, inplace=True)"
   ]
  },
  {
   "cell_type": "markdown",
   "metadata": {},
   "source": [
    "#### - On optimise les types des colonnes pour une meilleure rapidité de calcul. On actualise d'abord la variable \"columns\"."
   ]
  },
  {
   "cell_type": "code",
   "execution_count": 11,
   "metadata": {},
   "outputs": [],
   "source": [
    "columns = avantage.columns.tolist()\n",
    "for column in columns:\n",
    "    if len(avantage[column].unique()) < 2500:\n",
    "        avantage[column] = avantage[column].astype('category')"
   ]
  },
  {
   "cell_type": "markdown",
   "metadata": {},
   "source": [
    "### 1.2.2 On supprime les colonnes inutile à notre étude de la base de donnée 'convention'"
   ]
  },
  {
   "cell_type": "code",
   "execution_count": 12,
   "metadata": {
    "scrolled": true
   },
   "outputs": [
    {
     "name": "stdout",
     "output_type": "stream",
     "text": [
      "                        Nom colonne  Nombre unique\n",
      "0            entreprise_identifiant           1953\n",
      "1              denomination_sociale           1936\n",
      "2                 ligne_identifiant        4884554\n",
      "3               ligne_rectification              2\n",
      "4              benef_categorie_code             14\n",
      "5                         categorie             14\n",
      "6                         benef_nom         283712\n",
      "7                      benef_prenom          72952\n",
      "8                benef_qualite_code             25\n",
      "9                           qualite             25\n",
      "10                   benef_adresse1         477471\n",
      "11                   benef_adresse2         208751\n",
      "12                   benef_adresse3          92039\n",
      "13                   benef_adresse4          12850\n",
      "14                 benef_codepostal          16516\n",
      "15                      benef_ville          49246\n",
      "16                  benef_pays_code             98\n",
      "17                             pays             98\n",
      "18                 benef_titre_code              8\n",
      "19              benef_titre_libelle              8\n",
      "20            benef_specialite_code             65\n",
      "21         benef_speicalite_libelle             65\n",
      "22      benef_identifiant_type_code              5\n",
      "23                 identifiant_type              5\n",
      "24         benef_identifiant_valeur         402938\n",
      "25              benef_etablissement          21714\n",
      "26   benef_etablissement_codepostal           4188\n",
      "27        benef_etablissement_ville           5396\n",
      "28       benef_denomination_sociale          83478\n",
      "29               benef_objet_social          34830\n",
      "30                       ligne_type              1\n",
      "31              conv_date_signature           4195\n",
      "32                       conv_objet             24\n",
      "33                 conv_objet_autre          12250\n",
      "34                  conv_date_debut           4501\n",
      "35                    conv_date_fin           4709\n",
      "36                 conv_montant_ttc          14707\n",
      "37          conv_manifestation_date           3469\n",
      "38           conv_manifestation_nom         203732\n",
      "39          conv_manifestation_lieu          67650\n",
      "40  conv_manifestation_organisateur          14985\n"
     ]
    }
   ],
   "source": [
    "columns = convention.columns.tolist()\n",
    "data = []\n",
    "for column in columns:\n",
    "    data.append([column, len(convention[column].unique())])\n",
    "df = pd.DataFrame(data, columns=['Nom colonne', 'Nombre unique'])\n",
    "print(df)"
   ]
  },
  {
   "cell_type": "code",
   "execution_count": 13,
   "metadata": {},
   "outputs": [],
   "source": [
    "convention.drop(['benef_categorie_code', 'benef_qualite_code', 'benef_pays_code', \n",
    "               'benef_titre_code', 'benef_specialite_code', 'benef_identifiant_type_code'], axis=1, inplace=True)"
   ]
  },
  {
   "cell_type": "code",
   "execution_count": 33,
   "metadata": {},
   "outputs": [],
   "source": [
    "columns = convention.columns.tolist()\n",
    "for column in columns:\n",
    "    if len(convention[column].unique()) < 2500:\n",
    "        convention[column] = convention[column].astype('category')"
   ]
  },
  {
   "cell_type": "markdown",
   "metadata": {},
   "source": [
    "### 1.2.3 On supprime les colonnes inutile à notre étude de la base de donnée 'remuneration'"
   ]
  },
  {
   "cell_type": "code",
   "execution_count": 14,
   "metadata": {
    "scrolled": false
   },
   "outputs": [
    {
     "name": "stdout",
     "output_type": "stream",
     "text": [
      "                       Nom colonne  Nombre unique\n",
      "0           entreprise_identifiant            828\n",
      "1             denomination_sociale            825\n",
      "2                ligne_identifiant         450122\n",
      "3              ligne_rectification              2\n",
      "4             benef_categorie_code             14\n",
      "5                        categorie             14\n",
      "6                        benef_nom          40310\n",
      "7                     benef_prenom           9358\n",
      "8               benef_qualite_code             24\n",
      "9                          qualite             24\n",
      "10                  benef_adresse1          71106\n",
      "11                  benef_adresse2          23490\n",
      "12                  benef_adresse3           9521\n",
      "13                  benef_adresse4           1446\n",
      "14                benef_codepostal           7488\n",
      "15                     benef_ville          13932\n",
      "16                 benef_pays_code             38\n",
      "17                            pays             38\n",
      "18                benef_titre_code              8\n",
      "19             benef_titre_libelle              8\n",
      "20           benef_specialite_code             64\n",
      "21        benef_speicalite_libelle             64\n",
      "22     benef_identifiant_type_code              5\n",
      "23                identifiant_type              5\n",
      "24        benef_identifiant_valeur          56416\n",
      "25             benef_etablissement           1784\n",
      "26  benef_etablissement_codepostal           1140\n",
      "27       benef_etablissement_ville           1065\n",
      "28      benef_denomination_sociale          26983\n",
      "29              benef_objet_social           9916\n",
      "30                      ligne_type              1\n",
      "31                       remu_date           2632\n",
      "32                remu_montant_ttc          27060\n",
      "33            remu_convention_liee         350244\n"
     ]
    }
   ],
   "source": [
    "columns = remuneration.columns.tolist()\n",
    "data = []\n",
    "for column in columns:\n",
    "    data.append([column, len(remuneration[column].unique())])\n",
    "df = pd.DataFrame(data, columns=['Nom colonne', 'Nombre unique'])\n",
    "print(df)"
   ]
  },
  {
   "cell_type": "code",
   "execution_count": null,
   "metadata": {},
   "outputs": [],
   "source": [
    "remunation.drop(['benef_categorie_code', 'benef_qualite_code', 'benef_pays_code', \n",
    "               'benef_titre_code', 'benef_specialite_code', 'benef_identifiant_type_code'], axis=1, inplace=True)"
   ]
  },
  {
   "cell_type": "code",
   "execution_count": 36,
   "metadata": {},
   "outputs": [],
   "source": [
    "columns = remuneration.columns.tolist()\n",
    "for column in columns:\n",
    "    if len(remuneration[column].unique()) < 2000:\n",
    "        remuneration[column] = remuneration[column].astype('category')"
   ]
  },
  {
   "cell_type": "markdown",
   "metadata": {},
   "source": [
    "### 1.2.4 On supprime les colonnes inutile à notre étude de la base de donnée 'entreprise'"
   ]
  },
  {
   "cell_type": "code",
   "execution_count": 16,
   "metadata": {},
   "outputs": [
    {
     "name": "stdout",
     "output_type": "stream",
     "text": [
      "              Nom colonne  Nombre unique\n",
      "0             identifiant           3153\n",
      "1               pays_code             65\n",
      "2                    pays             65\n",
      "3   secteur_activite_code              7\n",
      "4                 secteur              7\n",
      "5    denomination_sociale           3102\n",
      "6               adresse_1           2981\n",
      "7               adresse_2            879\n",
      "8               adresse_3            235\n",
      "9               adresse_4            114\n",
      "10            code_postal           1731\n",
      "11                  ville           1816\n"
     ]
    }
   ],
   "source": [
    "columns = entreprise.columns.tolist()\n",
    "data = []\n",
    "for column in columns:\n",
    "    data.append([column, len(entreprise[column].unique())])\n",
    "df = pd.DataFrame(data, columns=['Nom colonne', 'Nombre unique'])\n",
    "print(df)"
   ]
  },
  {
   "cell_type": "code",
   "execution_count": 17,
   "metadata": {},
   "outputs": [],
   "source": [
    "entreprise.drop(['pays_code', 'secteur_activite_code'], axis=1, inplace=True)"
   ]
  },
  {
   "cell_type": "code",
   "execution_count": 37,
   "metadata": {},
   "outputs": [],
   "source": [
    "columns = entreprise.columns.tolist()\n",
    "for column in columns:\n",
    "    if len(entreprise[column].unique()) < 500:\n",
    "        entreprise[column] = entreprise[column].astype('category')"
   ]
  },
  {
   "cell_type": "markdown",
   "metadata": {},
   "source": [
    "#### - On renomme la colonne 'benef_speicalite_libelle' en 'benef_specialite_libelle'"
   ]
  },
  {
   "cell_type": "code",
   "execution_count": 30,
   "metadata": {},
   "outputs": [],
   "source": [
    "avantage.rename(columns={'benef_speicalite_libelle' : 'benef_specialite_libelle'}, inplace=True)\n",
    "convention.rename(columns={'benef_speicalite_libelle' : 'benef_specialite_libelle'}, inplace=True)\n",
    "remuneration.rename(columns={'benef_speicalite_libelle' : 'benef_specialite_libelle'}, inplace=True)"
   ]
  },
  {
   "cell_type": "markdown",
   "metadata": {},
   "source": [
    "#### On peut remarquer qu'il y a des lignes en moins par rapport à la base de donnée initial. Cela est due à des lignes vides qui ne sont donc pas charger.\n",
    "avantage ~500 lignes en moins,\n",
    "convention ~3000 lignes en moins,\n",
    "remuneration ~60 lignes en moins,\n",
    "entreprise 1 ligne en moins."
   ]
  },
  {
   "cell_type": "markdown",
   "metadata": {},
   "source": [
    "## 2. Faire de nouvelles bases de données propres."
   ]
  },
  {
   "cell_type": "code",
   "execution_count": 41,
   "metadata": {},
   "outputs": [],
   "source": [
    "avantage.to_csv('C:/Users/brune/OneDrive/Documents/BriefProjetGroupe/Brief_projet/Bases_clean/declaration_avantage_clean.csv', index=False)"
   ]
  },
  {
   "cell_type": "code",
   "execution_count": 42,
   "metadata": {},
   "outputs": [],
   "source": [
    "convention.to_csv('C:/Users/brune/OneDrive/Documents/BriefProjetGroupe/Brief_projet/Bases_clean/declaration_convention_clean.csv', index=False)"
   ]
  },
  {
   "cell_type": "code",
   "execution_count": 43,
   "metadata": {},
   "outputs": [],
   "source": [
    "remuneration.to_csv('C:/Users/brune/OneDrive/Documents/BriefProjetGroupe/Brief_projet/Bases_clean/declaration_remuneration_clean.csv', index=False)"
   ]
  },
  {
   "cell_type": "code",
   "execution_count": 44,
   "metadata": {},
   "outputs": [],
   "source": [
    "entreprise.to_csv('C:/Users/brune/OneDrive/Documents/BriefProjetGroupe/Brief_projet/Bases_clean/entreprise_clean.csv', index=False)"
   ]
  }
 ],
 "metadata": {
  "kernelspec": {
   "display_name": "Python 3",
   "language": "python",
   "name": "python3"
  },
  "language_info": {
   "codemirror_mode": {
    "name": "ipython",
    "version": 3
   },
   "file_extension": ".py",
   "mimetype": "text/x-python",
   "name": "python",
   "nbconvert_exporter": "python",
   "pygments_lexer": "ipython3",
   "version": "3.7.4"
  }
 },
 "nbformat": 4,
 "nbformat_minor": 2
}
